{
  "nbformat": 4,
  "nbformat_minor": 0,
  "metadata": {
    "colab": {
      "name": "fbprophet_model.ipynb",
      "provenance": [],
      "mount_file_id": "1VkWdBeQ_DPW4kdrsmw1McAABjCmBNNzU",
      "authorship_tag": "ABX9TyOfBL6sPIaxWgASc4ia624z",
      "include_colab_link": true
    },
    "kernelspec": {
      "name": "python3",
      "display_name": "Python 3"
    }
  },
  "cells": [
    {
      "cell_type": "markdown",
      "metadata": {
        "id": "view-in-github",
        "colab_type": "text"
      },
      "source": [
        "<a href=\"https://colab.research.google.com/github/mitkrieg/citibike-timeseries/blob/main/fbprophet_model.ipynb\" target=\"_parent\"><img src=\"https://colab.research.google.com/assets/colab-badge.svg\" alt=\"Open In Colab\"/></a>"
      ]
    },
    {
      "cell_type": "code",
      "metadata": {
        "id": "t3_Xo5L5na46"
      },
      "source": [
        "import pandas as pd\n",
        "from fbprophet import Prophet\n",
        "import pickle\n",
        "import matplotlib.pyplot as plt\n",
        "import seaborn as sns"
      ],
      "execution_count": 15,
      "outputs": []
    },
    {
      "cell_type": "code",
      "metadata": {
        "colab": {
          "base_uri": "https://localhost:8080/"
        },
        "id": "cnzmYJsTowAJ",
        "outputId": "be6fe952-405b-4dad-8f98-f23fd1b06846"
      },
      "source": [
        "from google.colab import drive\n",
        "drive.mount('/gdrive')\n",
        "%cd /gdrive"
      ],
      "execution_count": 5,
      "outputs": [
        {
          "output_type": "stream",
          "text": [
            "Mounted at /gdrive\n",
            "/gdrive\n"
          ],
          "name": "stdout"
        }
      ]
    },
    {
      "cell_type": "code",
      "metadata": {
        "colab": {
          "base_uri": "https://localhost:8080/"
        },
        "id": "QOaPK_Z3o-WD",
        "outputId": "d8bc83f7-6575-4b1b-8962-64a8b108c054"
      },
      "source": [
        "%cd Flatiron/Capstone/data"
      ],
      "execution_count": 10,
      "outputs": [
        {
          "output_type": "stream",
          "text": [
            "/gdrive/MyDrive/Flatiron/Capstone/data\n"
          ],
          "name": "stdout"
        }
      ]
    },
    {
      "cell_type": "code",
      "metadata": {
        "colab": {
          "base_uri": "https://localhost:8080/"
        },
        "id": "PwWGivcboGK-",
        "outputId": "e342bae2-7ea7-4b3e-9420-745ebeac2409"
      },
      "source": [
        "%ls"
      ],
      "execution_count": 40,
      "outputs": [
        {
          "output_type": "stream",
          "text": [
            "test_ts.pickle  train_ts.pickle\n"
          ],
          "name": "stdout"
        }
      ]
    },
    {
      "cell_type": "code",
      "metadata": {
        "id": "fkhvZHVcnlcu"
      },
      "source": [
        "df = pickle.load(open('/gdrive/MyDrive/Flatiron/Capstone/data/train_ts.pickle','rb'))\n",
        "df_test = pickle.load(open('/gdrive/MyDrive/Flatiron/Capstone/data/test_ts.pickle','rb'))"
      ],
      "execution_count": 41,
      "outputs": []
    },
    {
      "cell_type": "code",
      "metadata": {
        "colab": {
          "base_uri": "https://localhost:8080/",
          "height": 419
        },
        "id": "LMcEmg1LprEg",
        "outputId": "8a75d5e9-39a9-4d1c-8770-c575f57a4d29"
      },
      "source": [
        "df"
      ],
      "execution_count": 42,
      "outputs": [
        {
          "output_type": "execute_result",
          "data": {
            "text/html": [
              "<div>\n",
              "<style scoped>\n",
              "    .dataframe tbody tr th:only-of-type {\n",
              "        vertical-align: middle;\n",
              "    }\n",
              "\n",
              "    .dataframe tbody tr th {\n",
              "        vertical-align: top;\n",
              "    }\n",
              "\n",
              "    .dataframe thead th {\n",
              "        text-align: right;\n",
              "    }\n",
              "</style>\n",
              "<table border=\"1\" class=\"dataframe\">\n",
              "  <thead>\n",
              "    <tr style=\"text-align: right;\">\n",
              "      <th></th>\n",
              "      <th>ds</th>\n",
              "      <th>y</th>\n",
              "    </tr>\n",
              "  </thead>\n",
              "  <tbody>\n",
              "    <tr>\n",
              "      <th>0</th>\n",
              "      <td>2018-06-17 00:00:00</td>\n",
              "      <td>5.0</td>\n",
              "    </tr>\n",
              "    <tr>\n",
              "      <th>1</th>\n",
              "      <td>2018-06-17 01:00:00</td>\n",
              "      <td>3.5</td>\n",
              "    </tr>\n",
              "    <tr>\n",
              "      <th>2</th>\n",
              "      <td>2018-06-17 02:00:00</td>\n",
              "      <td>3.0</td>\n",
              "    </tr>\n",
              "    <tr>\n",
              "      <th>3</th>\n",
              "      <td>2018-06-17 03:00:00</td>\n",
              "      <td>2.0</td>\n",
              "    </tr>\n",
              "    <tr>\n",
              "      <th>4</th>\n",
              "      <td>2018-06-17 04:00:00</td>\n",
              "      <td>2.0</td>\n",
              "    </tr>\n",
              "    <tr>\n",
              "      <th>...</th>\n",
              "      <td>...</td>\n",
              "      <td>...</td>\n",
              "    </tr>\n",
              "    <tr>\n",
              "      <th>331</th>\n",
              "      <td>2018-06-30 19:00:00</td>\n",
              "      <td>14.0</td>\n",
              "    </tr>\n",
              "    <tr>\n",
              "      <th>332</th>\n",
              "      <td>2018-06-30 20:00:00</td>\n",
              "      <td>3.0</td>\n",
              "    </tr>\n",
              "    <tr>\n",
              "      <th>333</th>\n",
              "      <td>2018-06-30 21:00:00</td>\n",
              "      <td>9.5</td>\n",
              "    </tr>\n",
              "    <tr>\n",
              "      <th>334</th>\n",
              "      <td>2018-06-30 22:00:00</td>\n",
              "      <td>10.0</td>\n",
              "    </tr>\n",
              "    <tr>\n",
              "      <th>335</th>\n",
              "      <td>2018-06-30 23:00:00</td>\n",
              "      <td>9.0</td>\n",
              "    </tr>\n",
              "  </tbody>\n",
              "</table>\n",
              "<p>336 rows × 2 columns</p>\n",
              "</div>"
            ],
            "text/plain": [
              "                     ds     y\n",
              "0   2018-06-17 00:00:00   5.0\n",
              "1   2018-06-17 01:00:00   3.5\n",
              "2   2018-06-17 02:00:00   3.0\n",
              "3   2018-06-17 03:00:00   2.0\n",
              "4   2018-06-17 04:00:00   2.0\n",
              "..                  ...   ...\n",
              "331 2018-06-30 19:00:00  14.0\n",
              "332 2018-06-30 20:00:00   3.0\n",
              "333 2018-06-30 21:00:00   9.5\n",
              "334 2018-06-30 22:00:00  10.0\n",
              "335 2018-06-30 23:00:00   9.0\n",
              "\n",
              "[336 rows x 2 columns]"
            ]
          },
          "metadata": {
            "tags": []
          },
          "execution_count": 42
        }
      ]
    },
    {
      "cell_type": "code",
      "metadata": {
        "colab": {
          "base_uri": "https://localhost:8080/",
          "height": 419
        },
        "id": "zOzUhDUWzAVe",
        "outputId": "a311da0d-15ce-4cfe-de80-96152dad77c8"
      },
      "source": [
        "df_test"
      ],
      "execution_count": 43,
      "outputs": [
        {
          "output_type": "execute_result",
          "data": {
            "text/html": [
              "<div>\n",
              "<style scoped>\n",
              "    .dataframe tbody tr th:only-of-type {\n",
              "        vertical-align: middle;\n",
              "    }\n",
              "\n",
              "    .dataframe tbody tr th {\n",
              "        vertical-align: top;\n",
              "    }\n",
              "\n",
              "    .dataframe thead th {\n",
              "        text-align: right;\n",
              "    }\n",
              "</style>\n",
              "<table border=\"1\" class=\"dataframe\">\n",
              "  <thead>\n",
              "    <tr style=\"text-align: right;\">\n",
              "      <th></th>\n",
              "      <th>ds</th>\n",
              "      <th>y</th>\n",
              "    </tr>\n",
              "  </thead>\n",
              "  <tbody>\n",
              "    <tr>\n",
              "      <th>0</th>\n",
              "      <td>2018-06-18 00:00:00</td>\n",
              "      <td>2.5</td>\n",
              "    </tr>\n",
              "    <tr>\n",
              "      <th>1</th>\n",
              "      <td>2018-06-18 01:00:00</td>\n",
              "      <td>1.0</td>\n",
              "    </tr>\n",
              "    <tr>\n",
              "      <th>2</th>\n",
              "      <td>2018-06-18 02:00:00</td>\n",
              "      <td>12.0</td>\n",
              "    </tr>\n",
              "    <tr>\n",
              "      <th>3</th>\n",
              "      <td>2018-06-18 03:00:00</td>\n",
              "      <td>11.5</td>\n",
              "    </tr>\n",
              "    <tr>\n",
              "      <th>4</th>\n",
              "      <td>2018-06-18 04:00:00</td>\n",
              "      <td>11.0</td>\n",
              "    </tr>\n",
              "    <tr>\n",
              "      <th>...</th>\n",
              "      <td>...</td>\n",
              "      <td>...</td>\n",
              "    </tr>\n",
              "    <tr>\n",
              "      <th>643</th>\n",
              "      <td>2018-07-14 19:00:00</td>\n",
              "      <td>1.0</td>\n",
              "    </tr>\n",
              "    <tr>\n",
              "      <th>644</th>\n",
              "      <td>2018-07-14 20:00:00</td>\n",
              "      <td>3.0</td>\n",
              "    </tr>\n",
              "    <tr>\n",
              "      <th>645</th>\n",
              "      <td>2018-07-14 21:00:00</td>\n",
              "      <td>4.5</td>\n",
              "    </tr>\n",
              "    <tr>\n",
              "      <th>646</th>\n",
              "      <td>2018-07-14 22:00:00</td>\n",
              "      <td>2.5</td>\n",
              "    </tr>\n",
              "    <tr>\n",
              "      <th>647</th>\n",
              "      <td>2018-07-14 23:00:00</td>\n",
              "      <td>2.0</td>\n",
              "    </tr>\n",
              "  </tbody>\n",
              "</table>\n",
              "<p>648 rows × 2 columns</p>\n",
              "</div>"
            ],
            "text/plain": [
              "                     ds     y\n",
              "0   2018-06-18 00:00:00   2.5\n",
              "1   2018-06-18 01:00:00   1.0\n",
              "2   2018-06-18 02:00:00  12.0\n",
              "3   2018-06-18 03:00:00  11.5\n",
              "4   2018-06-18 04:00:00  11.0\n",
              "..                  ...   ...\n",
              "643 2018-07-14 19:00:00   1.0\n",
              "644 2018-07-14 20:00:00   3.0\n",
              "645 2018-07-14 21:00:00   4.5\n",
              "646 2018-07-14 22:00:00   2.5\n",
              "647 2018-07-14 23:00:00   2.0\n",
              "\n",
              "[648 rows x 2 columns]"
            ]
          },
          "metadata": {
            "tags": []
          },
          "execution_count": 43
        }
      ]
    },
    {
      "cell_type": "code",
      "metadata": {
        "colab": {
          "base_uri": "https://localhost:8080/"
        },
        "id": "VQy8zH3FplXh",
        "outputId": "e125f33b-ac8b-42ff-8579-0149abebad71"
      },
      "source": [
        "m = Prophet(daily_seasonality=True, weekly_seasonality=True)\n",
        "m.fit(df)"
      ],
      "execution_count": 34,
      "outputs": [
        {
          "output_type": "stream",
          "text": [
            "INFO:fbprophet:Disabling yearly seasonality. Run prophet with yearly_seasonality=True to override this.\n"
          ],
          "name": "stderr"
        },
        {
          "output_type": "execute_result",
          "data": {
            "text/plain": [
              "<fbprophet.forecaster.Prophet at 0x7f9318d88fd0>"
            ]
          },
          "metadata": {
            "tags": []
          },
          "execution_count": 34
        }
      ]
    },
    {
      "cell_type": "code",
      "metadata": {
        "colab": {
          "base_uri": "https://localhost:8080/",
          "height": 419
        },
        "id": "I9Yr13lLptYi",
        "outputId": "209d5186-00a3-4eb1-92d4-ddf2bcab76e3"
      },
      "source": [
        "future = m.make_future_dataframe(periods = 14*24, freq='H')\n",
        "future"
      ],
      "execution_count": 35,
      "outputs": [
        {
          "output_type": "execute_result",
          "data": {
            "text/html": [
              "<div>\n",
              "<style scoped>\n",
              "    .dataframe tbody tr th:only-of-type {\n",
              "        vertical-align: middle;\n",
              "    }\n",
              "\n",
              "    .dataframe tbody tr th {\n",
              "        vertical-align: top;\n",
              "    }\n",
              "\n",
              "    .dataframe thead th {\n",
              "        text-align: right;\n",
              "    }\n",
              "</style>\n",
              "<table border=\"1\" class=\"dataframe\">\n",
              "  <thead>\n",
              "    <tr style=\"text-align: right;\">\n",
              "      <th></th>\n",
              "      <th>ds</th>\n",
              "    </tr>\n",
              "  </thead>\n",
              "  <tbody>\n",
              "    <tr>\n",
              "      <th>0</th>\n",
              "      <td>2018-06-17 00:00:00</td>\n",
              "    </tr>\n",
              "    <tr>\n",
              "      <th>1</th>\n",
              "      <td>2018-06-17 01:00:00</td>\n",
              "    </tr>\n",
              "    <tr>\n",
              "      <th>2</th>\n",
              "      <td>2018-06-17 02:00:00</td>\n",
              "    </tr>\n",
              "    <tr>\n",
              "      <th>3</th>\n",
              "      <td>2018-06-17 03:00:00</td>\n",
              "    </tr>\n",
              "    <tr>\n",
              "      <th>4</th>\n",
              "      <td>2018-06-17 04:00:00</td>\n",
              "    </tr>\n",
              "    <tr>\n",
              "      <th>...</th>\n",
              "      <td>...</td>\n",
              "    </tr>\n",
              "    <tr>\n",
              "      <th>667</th>\n",
              "      <td>2018-07-14 19:00:00</td>\n",
              "    </tr>\n",
              "    <tr>\n",
              "      <th>668</th>\n",
              "      <td>2018-07-14 20:00:00</td>\n",
              "    </tr>\n",
              "    <tr>\n",
              "      <th>669</th>\n",
              "      <td>2018-07-14 21:00:00</td>\n",
              "    </tr>\n",
              "    <tr>\n",
              "      <th>670</th>\n",
              "      <td>2018-07-14 22:00:00</td>\n",
              "    </tr>\n",
              "    <tr>\n",
              "      <th>671</th>\n",
              "      <td>2018-07-14 23:00:00</td>\n",
              "    </tr>\n",
              "  </tbody>\n",
              "</table>\n",
              "<p>672 rows × 1 columns</p>\n",
              "</div>"
            ],
            "text/plain": [
              "                     ds\n",
              "0   2018-06-17 00:00:00\n",
              "1   2018-06-17 01:00:00\n",
              "2   2018-06-17 02:00:00\n",
              "3   2018-06-17 03:00:00\n",
              "4   2018-06-17 04:00:00\n",
              "..                  ...\n",
              "667 2018-07-14 19:00:00\n",
              "668 2018-07-14 20:00:00\n",
              "669 2018-07-14 21:00:00\n",
              "670 2018-07-14 22:00:00\n",
              "671 2018-07-14 23:00:00\n",
              "\n",
              "[672 rows x 1 columns]"
            ]
          },
          "metadata": {
            "tags": []
          },
          "execution_count": 35
        }
      ]
    },
    {
      "cell_type": "code",
      "metadata": {
        "colab": {
          "base_uri": "https://localhost:8080/",
          "height": 419
        },
        "id": "nSGb7D-cqMoi",
        "outputId": "6ee5b6dd-d02c-49c6-d312-e864f7ddfc85"
      },
      "source": [
        "forcast = m.predict(future)\n",
        "forcast[['ds','yhat','yhat_lower','yhat_upper']]"
      ],
      "execution_count": 36,
      "outputs": [
        {
          "output_type": "execute_result",
          "data": {
            "text/html": [
              "<div>\n",
              "<style scoped>\n",
              "    .dataframe tbody tr th:only-of-type {\n",
              "        vertical-align: middle;\n",
              "    }\n",
              "\n",
              "    .dataframe tbody tr th {\n",
              "        vertical-align: top;\n",
              "    }\n",
              "\n",
              "    .dataframe thead th {\n",
              "        text-align: right;\n",
              "    }\n",
              "</style>\n",
              "<table border=\"1\" class=\"dataframe\">\n",
              "  <thead>\n",
              "    <tr style=\"text-align: right;\">\n",
              "      <th></th>\n",
              "      <th>ds</th>\n",
              "      <th>yhat</th>\n",
              "      <th>yhat_lower</th>\n",
              "      <th>yhat_upper</th>\n",
              "    </tr>\n",
              "  </thead>\n",
              "  <tbody>\n",
              "    <tr>\n",
              "      <th>0</th>\n",
              "      <td>2018-06-17 00:00:00</td>\n",
              "      <td>9.404598</td>\n",
              "      <td>3.418828</td>\n",
              "      <td>15.414262</td>\n",
              "    </tr>\n",
              "    <tr>\n",
              "      <th>1</th>\n",
              "      <td>2018-06-17 01:00:00</td>\n",
              "      <td>9.153126</td>\n",
              "      <td>2.974334</td>\n",
              "      <td>15.574460</td>\n",
              "    </tr>\n",
              "    <tr>\n",
              "      <th>2</th>\n",
              "      <td>2018-06-17 02:00:00</td>\n",
              "      <td>9.186885</td>\n",
              "      <td>3.086015</td>\n",
              "      <td>15.019935</td>\n",
              "    </tr>\n",
              "    <tr>\n",
              "      <th>3</th>\n",
              "      <td>2018-06-17 03:00:00</td>\n",
              "      <td>9.604113</td>\n",
              "      <td>3.362352</td>\n",
              "      <td>15.314317</td>\n",
              "    </tr>\n",
              "    <tr>\n",
              "      <th>4</th>\n",
              "      <td>2018-06-17 04:00:00</td>\n",
              "      <td>9.981806</td>\n",
              "      <td>3.634275</td>\n",
              "      <td>16.162923</td>\n",
              "    </tr>\n",
              "    <tr>\n",
              "      <th>...</th>\n",
              "      <td>...</td>\n",
              "      <td>...</td>\n",
              "      <td>...</td>\n",
              "      <td>...</td>\n",
              "    </tr>\n",
              "    <tr>\n",
              "      <th>667</th>\n",
              "      <td>2018-07-14 19:00:00</td>\n",
              "      <td>22.168310</td>\n",
              "      <td>16.256439</td>\n",
              "      <td>27.736432</td>\n",
              "    </tr>\n",
              "    <tr>\n",
              "      <th>668</th>\n",
              "      <td>2018-07-14 20:00:00</td>\n",
              "      <td>23.757203</td>\n",
              "      <td>18.139882</td>\n",
              "      <td>29.665176</td>\n",
              "    </tr>\n",
              "    <tr>\n",
              "      <th>669</th>\n",
              "      <td>2018-07-14 21:00:00</td>\n",
              "      <td>24.453819</td>\n",
              "      <td>18.537601</td>\n",
              "      <td>30.219523</td>\n",
              "    </tr>\n",
              "    <tr>\n",
              "      <th>670</th>\n",
              "      <td>2018-07-14 22:00:00</td>\n",
              "      <td>24.632130</td>\n",
              "      <td>18.157433</td>\n",
              "      <td>30.452892</td>\n",
              "    </tr>\n",
              "    <tr>\n",
              "      <th>671</th>\n",
              "      <td>2018-07-14 23:00:00</td>\n",
              "      <td>24.540395</td>\n",
              "      <td>18.408737</td>\n",
              "      <td>30.466494</td>\n",
              "    </tr>\n",
              "  </tbody>\n",
              "</table>\n",
              "<p>672 rows × 4 columns</p>\n",
              "</div>"
            ],
            "text/plain": [
              "                     ds       yhat  yhat_lower  yhat_upper\n",
              "0   2018-06-17 00:00:00   9.404598    3.418828   15.414262\n",
              "1   2018-06-17 01:00:00   9.153126    2.974334   15.574460\n",
              "2   2018-06-17 02:00:00   9.186885    3.086015   15.019935\n",
              "3   2018-06-17 03:00:00   9.604113    3.362352   15.314317\n",
              "4   2018-06-17 04:00:00   9.981806    3.634275   16.162923\n",
              "..                  ...        ...         ...         ...\n",
              "667 2018-07-14 19:00:00  22.168310   16.256439   27.736432\n",
              "668 2018-07-14 20:00:00  23.757203   18.139882   29.665176\n",
              "669 2018-07-14 21:00:00  24.453819   18.537601   30.219523\n",
              "670 2018-07-14 22:00:00  24.632130   18.157433   30.452892\n",
              "671 2018-07-14 23:00:00  24.540395   18.408737   30.466494\n",
              "\n",
              "[672 rows x 4 columns]"
            ]
          },
          "metadata": {
            "tags": []
          },
          "execution_count": 36
        }
      ]
    },
    {
      "cell_type": "code",
      "metadata": {
        "id": "fp2ZMhBYsAWU"
      },
      "source": [
        "train_ts = df.set_index('ds')\n",
        "forcast_ts = forcast.set_index('ds')\n",
        "test_ts = df_test.set_index('ds')"
      ],
      "execution_count": 44,
      "outputs": []
    },
    {
      "cell_type": "code",
      "metadata": {
        "colab": {
          "base_uri": "https://localhost:8080/",
          "height": 450
        },
        "id": "NTk6ECyVtbQ0",
        "outputId": "547b19f5-0031-4307-bf78-940694426aab"
      },
      "source": [
        "test_ts"
      ],
      "execution_count": 45,
      "outputs": [
        {
          "output_type": "execute_result",
          "data": {
            "text/html": [
              "<div>\n",
              "<style scoped>\n",
              "    .dataframe tbody tr th:only-of-type {\n",
              "        vertical-align: middle;\n",
              "    }\n",
              "\n",
              "    .dataframe tbody tr th {\n",
              "        vertical-align: top;\n",
              "    }\n",
              "\n",
              "    .dataframe thead th {\n",
              "        text-align: right;\n",
              "    }\n",
              "</style>\n",
              "<table border=\"1\" class=\"dataframe\">\n",
              "  <thead>\n",
              "    <tr style=\"text-align: right;\">\n",
              "      <th></th>\n",
              "      <th>y</th>\n",
              "    </tr>\n",
              "    <tr>\n",
              "      <th>ds</th>\n",
              "      <th></th>\n",
              "    </tr>\n",
              "  </thead>\n",
              "  <tbody>\n",
              "    <tr>\n",
              "      <th>2018-06-18 00:00:00</th>\n",
              "      <td>2.5</td>\n",
              "    </tr>\n",
              "    <tr>\n",
              "      <th>2018-06-18 01:00:00</th>\n",
              "      <td>1.0</td>\n",
              "    </tr>\n",
              "    <tr>\n",
              "      <th>2018-06-18 02:00:00</th>\n",
              "      <td>12.0</td>\n",
              "    </tr>\n",
              "    <tr>\n",
              "      <th>2018-06-18 03:00:00</th>\n",
              "      <td>11.5</td>\n",
              "    </tr>\n",
              "    <tr>\n",
              "      <th>2018-06-18 04:00:00</th>\n",
              "      <td>11.0</td>\n",
              "    </tr>\n",
              "    <tr>\n",
              "      <th>...</th>\n",
              "      <td>...</td>\n",
              "    </tr>\n",
              "    <tr>\n",
              "      <th>2018-07-14 19:00:00</th>\n",
              "      <td>1.0</td>\n",
              "    </tr>\n",
              "    <tr>\n",
              "      <th>2018-07-14 20:00:00</th>\n",
              "      <td>3.0</td>\n",
              "    </tr>\n",
              "    <tr>\n",
              "      <th>2018-07-14 21:00:00</th>\n",
              "      <td>4.5</td>\n",
              "    </tr>\n",
              "    <tr>\n",
              "      <th>2018-07-14 22:00:00</th>\n",
              "      <td>2.5</td>\n",
              "    </tr>\n",
              "    <tr>\n",
              "      <th>2018-07-14 23:00:00</th>\n",
              "      <td>2.0</td>\n",
              "    </tr>\n",
              "  </tbody>\n",
              "</table>\n",
              "<p>648 rows × 1 columns</p>\n",
              "</div>"
            ],
            "text/plain": [
              "                        y\n",
              "ds                       \n",
              "2018-06-18 00:00:00   2.5\n",
              "2018-06-18 01:00:00   1.0\n",
              "2018-06-18 02:00:00  12.0\n",
              "2018-06-18 03:00:00  11.5\n",
              "2018-06-18 04:00:00  11.0\n",
              "...                   ...\n",
              "2018-07-14 19:00:00   1.0\n",
              "2018-07-14 20:00:00   3.0\n",
              "2018-07-14 21:00:00   4.5\n",
              "2018-07-14 22:00:00   2.5\n",
              "2018-07-14 23:00:00   2.0\n",
              "\n",
              "[648 rows x 1 columns]"
            ]
          },
          "metadata": {
            "tags": []
          },
          "execution_count": 45
        }
      ]
    },
    {
      "cell_type": "code",
      "metadata": {
        "colab": {
          "base_uri": "https://localhost:8080/",
          "height": 282
        },
        "id": "UDDlbehhsDR3",
        "outputId": "90a69fab-e93e-4e2f-a766-1405c11ed1f2"
      },
      "source": [
        "fig, ax = plt.subplots()\n",
        "ax.plot(test_ts,label='test')\n",
        "ax.plot(train_ts,label='train')\n",
        "ax.plot(forcast_ts.yhat,label='forcast')"
      ],
      "execution_count": 47,
      "outputs": [
        {
          "output_type": "execute_result",
          "data": {
            "text/plain": [
              "[<matplotlib.lines.Line2D at 0x7f9318d810b8>]"
            ]
          },
          "metadata": {
            "tags": []
          },
          "execution_count": 47
        },
        {
          "output_type": "display_data",
          "data": {
            "image/png": "[encoded data removed]",
            "text/plain": [
              "<Figure size 432x288 with 1 Axes>"
            ]
          },
          "metadata": {
            "tags": [],
            "needs_background": "light"
          }
        }
      ]
    },
    {
      "cell_type": "code",
      "metadata": {
        "id": "g0QSpfEEtDD3"
      },
      "source": [
        ""
      ],
      "execution_count": null,
      "outputs": []
    }
  ]
}